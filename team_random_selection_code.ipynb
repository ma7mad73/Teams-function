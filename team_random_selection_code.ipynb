{
 "cells": [
  {
   "cell_type": "markdown",
   "metadata": {},
   "source": [
    "# Team Random Selection Code :)\n"
   ]
  },
  {
   "cell_type": "code",
   "execution_count": 29,
   "metadata": {},
   "outputs": [],
   "source": [
    "import random\n",
    "\n",
    "# Define the four test lists\n",
    "level1 = [1, 2, 3, 4, 5]\n",
    "level2 = ['a', 'b', 'c','d', 'e']\n",
    "level3 = [99, 88, 77,66, 55]\n",
    "level4 = [\"1$\",\"2&\",\"3%\",\"4©\", \"5*\"]\n",
    "level5 = [10, 20, 30, 40, 50]"
   ]
  },
  {
   "cell_type": "markdown",
   "metadata": {},
   "source": [
    "Think about a code that help us to have random new mixed lists, each list should have one element from each level lists.\n",
    "\n",
    "Output may be like that following:\n",
    "```python\n",
    "team1 = [1, 'c', 88, '2&']\n",
    "team2 = [4, 'a', 99, '3%']\n",
    "team3 = [2, 'b', 77, '4©']\n",
    "team4 = [3, 'd', 66, '1$']\n",
    "```\n",
    "\n"
   ]
  },
  {
   "cell_type": "code",
   "execution_count": 34,
   "metadata": {},
   "outputs": [
    {
     "name": "stdout",
     "output_type": "stream",
     "text": [
      "Team  1  : [2, 'b', 55, '4©']\n",
      "Team  2  : [4, 'e', 77, '1$']\n",
      "Team  3  : [5, 'a', 66, '3%']\n",
      "Team  4  : [3, 'c', 88, '2&']\n",
      "Team  5  : [1, 'd', 99, '5*']\n"
     ]
    }
   ],
   "source": [
    "def teams(list1,list2,list3,list4):\n",
    "\n",
    "    shfl_list1 = list1\n",
    "    random.shuffle(shfl_list1)\n",
    "    shfl_list2 = list2\n",
    "    random.shuffle(shfl_list2)\n",
    "    shfl_list3 = list3\n",
    "    random.shuffle(shfl_list3)\n",
    "    shfl_list4 = list4\n",
    "    random.shuffle(shfl_list4)\n",
    "\n",
    "    x=0\n",
    "\n",
    "    for i in range(len(shfl_list1)):    \n",
    "        team = []\n",
    "        team.append(shfl_list1[i])\n",
    "        team.append(shfl_list2[i])\n",
    "        team.append(shfl_list3[i])\n",
    "        team.append(shfl_list4[i])\n",
    "        x += 1\n",
    "        print('Team ',x ,' :',team)\n",
    "\n",
    "\n",
    "teams(level1,level2,level3,level4)"
   ]
  }
 ],
 "metadata": {
  "kernelspec": {
   "display_name": "pubmed",
   "language": "python",
   "name": "python3"
  },
  "language_info": {
   "codemirror_mode": {
    "name": "ipython",
    "version": 3
   },
   "file_extension": ".py",
   "mimetype": "text/x-python",
   "name": "python",
   "nbconvert_exporter": "python",
   "pygments_lexer": "ipython3",
   "version": "3.8.8"
  }
 },
 "nbformat": 4,
 "nbformat_minor": 2
}
